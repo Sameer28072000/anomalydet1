{
 "cells": [
  {
   "cell_type": "markdown",
   "id": "8edc5e29-f646-4657-b416-2d9158bd0c46",
   "metadata": {},
   "source": [
    "Q1. What is anomaly detection and what is its purpose?"
   ]
  },
  {
   "cell_type": "code",
   "execution_count": null,
   "id": "d97b3b04-4c34-4343-815c-fbf6ff362251",
   "metadata": {},
   "outputs": [],
   "source": [
    "Ans:-To detect oulier is caleed as anaomaly detection.\n",
    "      It is important for problem statement."
   ]
  },
  {
   "cell_type": "markdown",
   "id": "6698d94f-56b4-44ff-9102-cf83b380767b",
   "metadata": {},
   "source": [
    "Q2. What are the key challenges in anomaly detection?"
   ]
  },
  {
   "cell_type": "code",
   "execution_count": null,
   "id": "f8df32b1-51b4-40cf-b6fa-1a5ce424bd23",
   "metadata": {},
   "outputs": [],
   "source": [
    "Ans:-The key challenges in anomaly detection\n",
    "       i.imbalanced data\n",
    "        ii.feature engineering\n",
    "          iii.scalability\n",
    "            iv.evaluation & validation"
   ]
  },
  {
   "cell_type": "markdown",
   "id": "f309f7a7-f5a9-4c41-979b-2588d022060c",
   "metadata": {},
   "source": [
    "Q3. How does unsupervised anomaly detection differ from supervised anomaly detection?"
   ]
  },
  {
   "cell_type": "code",
   "execution_count": null,
   "id": "d2f8e6e6-c57c-4b0a-854b-96d5507dd8fa",
   "metadata": {},
   "outputs": [],
   "source": [
    "Ans:-Unsupervised Anomaly Detection:\n",
    "      i.lack of labeled anomalies\n",
    "        ii.distribution based approach\n",
    "        \n",
    "          supervised Anomaly Detection: \n",
    "            i.availability of labeled anomalies\n",
    "              ii.classifiaction based approache"
   ]
  },
  {
   "cell_type": "markdown",
   "id": "2ef9ca0f-ffc8-44f8-9308-d629482858f3",
   "metadata": {},
   "source": [
    "Q4. What are the main categories of anomaly detection algorithms?"
   ]
  },
  {
   "cell_type": "code",
   "execution_count": null,
   "id": "7911194b-739e-42b9-bd36-7eda381a0be0",
   "metadata": {},
   "outputs": [],
   "source": [
    "Ans:-The main categories of anomaly detection algorithms\n",
    "       i.statistical method\n",
    "        ii.machine learning method\n",
    "          iii.distance based method\n",
    "            iv.deep learning method"
   ]
  },
  {
   "cell_type": "markdown",
   "id": "3aefe5a1-91c5-4c3a-aaee-4f28b7798436",
   "metadata": {},
   "source": [
    "Q5. What are the main assumptions made by distance-based anomaly detection methods?"
   ]
  },
  {
   "cell_type": "code",
   "execution_count": null,
   "id": "5389f033-1b01-41d1-8cc8-c8d48491d06d",
   "metadata": {},
   "outputs": [],
   "source": [
    "Ans:-The main assumptions made by distance-based anomaly detection methods\n",
    "       i.normal distribution\n",
    "         ii.euclidean distance measure\n",
    "           iii.independent feature\n",
    "             iv.constant density"
   ]
  },
  {
   "cell_type": "markdown",
   "id": "0eccbe99-d3b2-4ba2-af7e-5cb41c9ac74c",
   "metadata": {},
   "source": [
    "Q6. How does the LOF algorithm compute anomaly scores?"
   ]
  },
  {
   "cell_type": "code",
   "execution_count": null,
   "id": "7afd0a01-09a6-4ebe-b2aa-bfd0680bff8c",
   "metadata": {},
   "outputs": [],
   "source": [
    "Ans:-The LOF (Local Outlier Factor) algorithm computes anomaly scores by measuring the local density deviation \n",
    "        of a data point with respect to its neighboring points. \n",
    "    \n",
    "      i.neighborhood determination\n",
    "        ii.LOF computation\n",
    "          iii.anomaly score assignment"
   ]
  },
  {
   "cell_type": "markdown",
   "id": "98588325-6e51-47ca-94af-8e4cd682f844",
   "metadata": {},
   "source": [
    "Q7. What are the key parameters of the Isolation Forest algorithm?"
   ]
  },
  {
   "cell_type": "code",
   "execution_count": null,
   "id": "09b6b64c-1861-4aa6-819d-4fb34980e5f0",
   "metadata": {},
   "outputs": [],
   "source": [
    "Ans:-The key parameters of the Isolation Forest algorithm are:-\n",
    "       i.n_estmator\n",
    "        ii.max_sample\n",
    "          iii.max_feature\n",
    "            iv.bootstrap\n",
    "              v.random_state"
   ]
  },
  {
   "cell_type": "markdown",
   "id": "8cbf04d6-4d15-4688-bd65-c0a58c5e0c82",
   "metadata": {},
   "source": [
    "Q8. If a data point has only 2 neighbours of the same class within a radius of 0.5, what is its anomaly score\n",
    "using KNN with K=10?"
   ]
  },
  {
   "cell_type": "code",
   "execution_count": null,
   "id": "c3170317-1d1d-4d1b-be13-83f9039a6c93",
   "metadata": {},
   "outputs": [],
   "source": [
    "Ans:-The data point has 2 neighbors within the radius and 8 neighbors outside the radius.\n",
    "       "
   ]
  }
 ],
 "metadata": {
  "kernelspec": {
   "display_name": "Python 3 (ipykernel)",
   "language": "python",
   "name": "python3"
  },
  "language_info": {
   "codemirror_mode": {
    "name": "ipython",
    "version": 3
   },
   "file_extension": ".py",
   "mimetype": "text/x-python",
   "name": "python",
   "nbconvert_exporter": "python",
   "pygments_lexer": "ipython3",
   "version": "3.10.8"
  }
 },
 "nbformat": 4,
 "nbformat_minor": 5
}
